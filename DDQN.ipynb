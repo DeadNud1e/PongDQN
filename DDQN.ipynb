{
  "nbformat": 4,
  "nbformat_minor": 0,
  "metadata": {
    "colab": {
      "name": "Untitled13.ipynb",
      "provenance": []
    },
    "kernelspec": {
      "name": "python3",
      "display_name": "Python 3"
    },
    "accelerator": "GPU"
  },
  "cells": [
    {
      "cell_type": "code",
      "metadata": {
        "id": "ACfG1QXtfG50"
      },
      "source": [
        "import numpy as np\n",
        "import matplotlib.pyplot as plt\n",
        "%matplotlib inline\n",
        "\n",
        "import gym\n"
      ],
      "execution_count": 1,
      "outputs": []
    },
    {
      "cell_type": "code",
      "metadata": {
        "id": "HF_4IEv53PKy"
      },
      "source": [
        "import torch\n",
        "import torch.nn as nn\n",
        "import torch.optim as optim\n",
        "import torch.autograd as autograd \n",
        "import torch.nn.functional as F"
      ],
      "execution_count": 2,
      "outputs": []
    },
    {
      "cell_type": "markdown",
      "metadata": {
        "id": "HOPVfQ8yiZZd"
      },
      "source": [
        "Импорт библиотек, и создание среды для агента."
      ]
    },
    {
      "cell_type": "code",
      "metadata": {
        "id": "LH4N0aCpfN0a",
        "outputId": "afe5ef88-a896-48e6-e422-59303fbcb942",
        "colab": {
          "base_uri": "https://localhost:8080/",
          "height": 52
        }
      },
      "source": [
        "env = gym.make('Pong-v0')\n",
        "\n",
        "NUM_STATES = env.observation_space\n",
        "NUM_ACTIONS = env.action_space.n\n",
        "\n",
        "print('States: {}'.format(NUM_STATES))\n",
        "print('Actions: {}'.format(NUM_ACTIONS))"
      ],
      "execution_count": 3,
      "outputs": [
        {
          "output_type": "stream",
          "text": [
            "States: Box(210, 160, 3)\n",
            "Actions: 6\n"
          ],
          "name": "stdout"
        }
      ]
    },
    {
      "cell_type": "markdown",
      "metadata": {
        "id": "CkJAeK4oipzb"
      },
      "source": [
        "Создаём модель."
      ]
    },
    {
      "cell_type": "code",
      "metadata": {
        "id": "JzbLHlQRyXFA"
      },
      "source": [
        "class CnnDQN(nn.Module):\n",
        "    def __init__(self, input_shape, num_actions):\n",
        "        super(CnnDQN, self).__init__()\n",
        "        #передаём размер входа и количество действий (на самом деле я думаю что киличество действий можно сократить и передавать только действия которые что-то делают)\n",
        "        self.input_shape = input_shape\n",
        "        self.num_actions = num_actions\n",
        "        #Создаем Sequential для CNN, потомучто я ленивый и мне лень писать forward полностью\n",
        "        self.features = nn.Sequential(\n",
        "            nn.Conv2d(input_shape[0], 32, kernel_size=8, stride=4),\n",
        "            nn.ReLU(),\n",
        "            nn.Conv2d(32, 64, kernel_size=4, stride=2),\n",
        "            nn.ReLU(),\n",
        "            nn.Conv2d(64, 64, kernel_size=3, stride=1),\n",
        "            nn.ReLU()\n",
        "        )\n",
        "        #Тоже для полносвязного\n",
        "        self.fc = nn.Sequential(\n",
        "            nn.Linear(self.feature_size(), 512),\n",
        "            nn.ReLU(),\n",
        "            nn.Linear(512, self.num_actions)\n",
        "        )\n",
        "        \n",
        "    def forward(self, x):\n",
        "      #вызываем CNN часть, затем вытягиваем всё в один вектор и полносвязная часть\n",
        "        x = self.features(x)\n",
        "        x = x.view(x.size(0), -1)\n",
        "        x = self.fc(x)\n",
        "        return x\n",
        "    \n",
        "    def feature_size(self):\n",
        "        #размер входа для полносвязных\n",
        "        return self.features((torch.zeros(1, *self.input_shape, requires_grad=True))).view(1, -1).size(1)\n",
        "    \n",
        "    def act(self, state, epsilon):\n",
        "      #greedy part, если больше epsilon, то подаём в сеть и находим action. В противном случае рандом\n",
        "        if random.random() > epsilon:\n",
        "            state   = torch.cuda.FloatTensor(np.float32(state)).unsqueeze(0)\n",
        "            q_value = self.forward(state)\n",
        "            action  = q_value.max(1)[1].data[0]\n",
        "        else:\n",
        "            action = random.randrange(env.action_space.n)\n",
        "        return action"
      ],
      "execution_count": 4,
      "outputs": []
    },
    {
      "cell_type": "code",
      "metadata": {
        "id": "bxPSVHKVMx6G"
      },
      "source": [
        "class NoopResetEnv(gym.Wrapper):\n",
        "    def __init__(self, env, noop_max=30):\n",
        "        #Убираем возможность бесдействовать долго\n",
        "        gym.Wrapper.__init__(self, env)\n",
        "        self.noop_max = noop_max\n",
        "        self.override_num_noops = None\n",
        "        self.noop_action = 0\n",
        "        assert env.unwrapped.get_action_meanings()[0] == 'NOOP'\n",
        "\n",
        "    def reset(self, **kwargs):\n",
        "        self.env.reset(**kwargs)\n",
        "        if self.override_num_noops is not None:\n",
        "            noops = self.override_num_noops\n",
        "        else:\n",
        "            noops = self.unwrapped.np_random.randint(1, self.noop_max + 1)\n",
        "        assert noops > 0\n",
        "        obs = None\n",
        "        for _ in range(noops):\n",
        "            obs, _, done, _ = self.env.step(self.noop_action)\n",
        "            if done:\n",
        "                obs = self.env.reset(**kwargs)\n",
        "        return obs\n",
        "\n",
        "    def step(self, ac):\n",
        "        return self.env.step(ac)\n",
        "\n",
        "env = NoopResetEnv(env) "
      ],
      "execution_count": 5,
      "outputs": []
    },
    {
      "cell_type": "code",
      "metadata": {
        "id": "SWQTVP4D4mfh"
      },
      "source": [
        "class SkipEnv(gym.Wrapper):\n",
        "    def __init__(self, env, skip=4):\n",
        "        #пропускаем фреймы\n",
        "        gym.Wrapper.__init__(self, env)\n",
        "        self._obs_buffer = np.zeros((2,)+env.observation_space.shape, dtype=np.uint8)\n",
        "        self._skip       = skip\n",
        "\n",
        "    def reset(self):\n",
        "        return self.env.reset()\n",
        "\n",
        "    def step(self, action):\n",
        "        total_reward = 0.0\n",
        "        done = None\n",
        "        for i in range(self._skip):\n",
        "            obs, reward, done, info = self.env.step(action)\n",
        "            if i == self._skip - 2: self._obs_buffer[0] = obs\n",
        "            if i == self._skip - 1: self._obs_buffer[1] = obs\n",
        "            total_reward += reward\n",
        "            if done:\n",
        "                break\n",
        "\n",
        "        max_frame = self._obs_buffer.max(axis=0)\n",
        "\n",
        "        return max_frame, total_reward, done, info\n",
        "\n",
        "    def reset(self, **kwargs):\n",
        "        return self.env.reset(**kwargs)\n",
        "\n",
        "env = SkipEnv(env, skip=4) "
      ],
      "execution_count": 6,
      "outputs": []
    },
    {
      "cell_type": "code",
      "metadata": {
        "id": "vWZK5Nc0x6AQ"
      },
      "source": [
        "import cv2\n",
        "\n",
        "class ChangeFrame(gym.ObservationWrapper):\n",
        "    def __init__(self, env):\n",
        "       #Уменьшаем размер и рабираемся со цветом\n",
        "        gym.ObservationWrapper.__init__(self, env)\n",
        "        self.width = 84\n",
        "        self.height = 84\n",
        "        self.observation_space = gym.spaces.Box(low=0, high=255,\n",
        "            shape=(self.height, self.width, 1), dtype=np.uint8)\n",
        "\n",
        "    def observation(self, frame):\n",
        "        frame = cv2.cvtColor(frame, cv2.COLOR_RGB2GRAY)\n",
        "        frame = cv2.resize(frame, (self.width, self.height), interpolation=cv2.INTER_AREA)\n",
        "        return frame[:, :, None]\n",
        "        \n",
        "env = ChangeFrame(env)"
      ],
      "execution_count": 7,
      "outputs": []
    },
    {
      "cell_type": "code",
      "metadata": {
        "id": "noIwBg7X4pxS"
      },
      "source": [
        "class ImageToPyTorch(gym.ObservationWrapper):\n",
        "  #код для переноса каналов на первое место. Из 210, 160, 3 делаем 3, 210, 160\n",
        "    def __init__(self, env):\n",
        "        super(ImageToPyTorch, self).__init__(env)\n",
        "        old_shape = self.observation_space.shape\n",
        "        self.observation_space = gym.spaces.Box(low=0.0, high=1.0, shape=(old_shape[-1], old_shape[0], old_shape[1]), dtype=np.uint8)\n",
        "\n",
        "    def observation(self, observation):\n",
        "        return np.swapaxes(observation, 2, 0)\n",
        "    \n",
        "\n",
        "def wrap_pytorch(env):\n",
        "    return ImageToPyTorch(env)\n",
        "\n",
        "env    = wrap_pytorch(env)"
      ],
      "execution_count": 8,
      "outputs": []
    },
    {
      "cell_type": "code",
      "metadata": {
        "id": "qi_drDLVoOVK",
        "outputId": "cf8112df-3188-40d7-ff24-329627acbe70",
        "colab": {
          "base_uri": "https://localhost:8080/",
          "height": 34
        }
      },
      "source": [
        "env.observation_space"
      ],
      "execution_count": 9,
      "outputs": [
        {
          "output_type": "execute_result",
          "data": {
            "text/plain": [
              "Box(1, 84, 84)"
            ]
          },
          "metadata": {
            "tags": []
          },
          "execution_count": 9
        }
      ]
    },
    {
      "cell_type": "code",
      "metadata": {
        "id": "2xYQzDic5-Xv"
      },
      "source": [
        "def compute_td_loss(batch_size):\n",
        "  #берем из буфера рандомный батч\n",
        "    state, action, reward, next_state, done = replay_buffer.sample(batch_size)\n",
        "    state      = (torch.cuda.FloatTensor(np.float32(state)))\n",
        "    next_state = (torch.cuda.FloatTensor(np.float32(next_state)))\n",
        "    action     = (torch.cuda.LongTensor(action))\n",
        "    reward     = (torch.cuda.FloatTensor(reward))\n",
        "    done       = (torch.cuda.FloatTensor(done))\n",
        "    not_done   = (1-torch.tensor(done).unsqueeze(1))\n",
        "   #Вычесляем Q функции \n",
        "    q_values      = model(state)\n",
        "    next_q_values = model(next_state)\n",
        "    next_q_values_t = model_tar(next_state)*not_done\n",
        "    #q_value - это тензор q значений для действий которые были произведены. next_q_value - максимальные значение q для следующего состояния. expected_q_value - ожидаемые по формуле\n",
        "    q_value         = q_values.gather(1, action.unsqueeze(1)).squeeze(1)\n",
        "    #next_q_value     = next_q_values.max(1)[0]\n",
        "    next_q_value     = next_q_values_t.gather(1, torch.argmax(next_q_values, dim=1).unsqueeze(1)).detach().squeeze()\n",
        "    expected_q_value = reward + gamma * next_q_value\n",
        "\n",
        "   #считаем квадрат ошибки, берём среднее значение по батчу\n",
        "    loss = (q_value - (expected_q_value.detach())).pow(2).mean()\n",
        "   #Зануляем градиенты, пробрасываем loss и делаем шаг оптимизатора     \n",
        "    optimizer.zero_grad()\n",
        "    loss.backward()\n",
        "    optimizer.step()\n",
        "    return loss"
      ],
      "execution_count": 10,
      "outputs": []
    },
    {
      "cell_type": "code",
      "metadata": {
        "id": "23UClTN63RLv"
      },
      "source": [
        "model = CnnDQN(env.observation_space.shape, env.action_space.n)\n",
        "#передаём всё на GPU если оно работает\n",
        "if torch.cuda.is_available():\n",
        "    model = model.cuda()\n",
        "\n",
        "optimizer = optim.Adam(model.parameters(), lr=0.00001)\n",
        "\n",
        "replay_initial = 10000"
      ],
      "execution_count": 11,
      "outputs": []
    },
    {
      "cell_type": "code",
      "metadata": {
        "id": "YKzN5Q_DHdmJ",
        "outputId": "9d1a9349-c677-40eb-e369-2662a7414b96",
        "colab": {
          "base_uri": "https://localhost:8080/",
          "height": 278
        }
      },
      "source": [
        "#ddqn\n",
        "\n",
        "model_tar = CnnDQN(env.observation_space.shape, env.action_space.n)\n",
        "if torch.cuda.is_available():\n",
        "    model_tar = model_tar.cuda()\n",
        "\n",
        "model_tar.eval()"
      ],
      "execution_count": 12,
      "outputs": [
        {
          "output_type": "execute_result",
          "data": {
            "text/plain": [
              "CnnDQN(\n",
              "  (features): Sequential(\n",
              "    (0): Conv2d(1, 32, kernel_size=(8, 8), stride=(4, 4))\n",
              "    (1): ReLU()\n",
              "    (2): Conv2d(32, 64, kernel_size=(4, 4), stride=(2, 2))\n",
              "    (3): ReLU()\n",
              "    (4): Conv2d(64, 64, kernel_size=(3, 3), stride=(1, 1))\n",
              "    (5): ReLU()\n",
              "  )\n",
              "  (fc): Sequential(\n",
              "    (0): Linear(in_features=3136, out_features=512, bias=True)\n",
              "    (1): ReLU()\n",
              "    (2): Linear(in_features=512, out_features=6, bias=True)\n",
              "  )\n",
              ")"
            ]
          },
          "metadata": {
            "tags": []
          },
          "execution_count": 12
        }
      ]
    },
    {
      "cell_type": "code",
      "metadata": {
        "id": "ETfC4arA5Hi3"
      },
      "source": [
        "from collections import deque\n",
        "\n",
        "class ReplayBuffer(object):\n",
        "  #Это буфер, push забивает в буфер всю необходимую информацию, sample вытаскивает рандомное вхождение\n",
        "    def __init__(self, capacity):\n",
        "        self.buffer = deque(maxlen=capacity)\n",
        "    \n",
        "    def push(self, state, action, reward, next_state, done):           \n",
        "        self.buffer.append((state, action, reward, next_state, done))\n",
        "    \n",
        "    def sample(self, batch_size):\n",
        "        state, action, reward, next_state, done = zip(*random.sample(self.buffer, batch_size))\n",
        "        return (state), action, reward, (next_state), done\n",
        "    \n",
        "    def __len__(self):\n",
        "        return len(self.buffer)\n",
        "\n",
        "replay_buffer = ReplayBuffer(100000)"
      ],
      "execution_count": 13,
      "outputs": []
    },
    {
      "cell_type": "code",
      "metadata": {
        "id": "vq7AtPc23dZ9"
      },
      "source": [
        "import math, random\n",
        "#эпсилан-функиция, уменьшаем со временем по экспоненте\n",
        "epsilon_start = 1.0\n",
        "epsilon_final = 0.01\n",
        "epsilon_decay = 30000\n",
        "\n",
        "epsilon_by_frame = lambda frame_idx: epsilon_final + (epsilon_start - epsilon_final) * math.exp(-1. * frame_idx / epsilon_decay)"
      ],
      "execution_count": 14,
      "outputs": []
    },
    {
      "cell_type": "code",
      "metadata": {
        "id": "569Ke7dk5was"
      },
      "source": [
        "from IPython.display import clear_output\n",
        "import matplotlib.pyplot as plt\n",
        "\n",
        "def plot(frame_idx, rewards, losses):\n",
        "  #визуализация\n",
        "    clear_output(True)\n",
        "    plt.figure(figsize=(20,5))\n",
        "    plt.subplot(131)\n",
        "    plt.title('frame %s. reward: %s' % (frame_idx, np.mean(rewards[-10:])))\n",
        "    plt.plot(rewards)\n",
        "    plt.subplot(132)\n",
        "    plt.title('loss')\n",
        "    plt.plot(losses)\n",
        "    plt.show()"
      ],
      "execution_count": 15,
      "outputs": []
    },
    {
      "cell_type": "code",
      "metadata": {
        "id": "A9wyVeOo5PrI",
        "outputId": "27d1cbb1-4b86-4c41-c5ca-ae0650d5a742",
        "colab": {
          "base_uri": "https://localhost:8080/",
          "height": 349
        }
      },
      "source": [
        "num_frames = 2000000\n",
        "batch_size = 64\n",
        "gamma      = 0.99\n",
        "target_update = 10000\n",
        "\n",
        "losses = []\n",
        "all_rewards = []\n",
        "episode_reward = 0\n",
        "#ставим агента в начальное положение\n",
        "state = env.reset()\n",
        "for frame_idx in range(1, num_frames + 1):\n",
        "  #считаем epsilon и action\n",
        "    epsilon = epsilon_by_frame(frame_idx)\n",
        "    action = model.act(state, epsilon)\n",
        "  #делаем шаг и отправляем информацию в буфер  \n",
        "    next_state, reward, done, _ = env.step(action)\n",
        "    replay_buffer.push(state, action, reward, next_state, done)\n",
        "    \n",
        "    state = next_state\n",
        "    episode_reward += reward\n",
        "  #если победа, то заново  \n",
        "    if done:\n",
        "        state = env.reset()\n",
        "        all_rewards.append(episode_reward)\n",
        "        episode_reward = 0\n",
        "   #Если буффер больше  replay_initial то обучаемся\n",
        "    if len(replay_buffer) > replay_initial and frame_idx%2==0:\n",
        "        loss = compute_td_loss(batch_size)\n",
        "        losses.append(loss.detach().item())\n",
        "    #double dqn\n",
        "    if frame_idx % target_update == 0:\n",
        "      with torch.no_grad():\n",
        "        model_tar.load_state_dict(model.state_dict())\n",
        "        model_tar.eval()\n",
        "   #вывод графиков     \n",
        "    if frame_idx % 10000 == 0:\n",
        "        plot(frame_idx, all_rewards, losses)"
      ],
      "execution_count": 17,
      "outputs": [
        {
          "output_type": "display_data",
          "data": {
            "image/png": "[encoded data removed]",
            "text/plain": [
              "<Figure size 1440x360 with 2 Axes>"
            ]
          },
          "metadata": {
            "tags": [],
            "needs_background": "light"
          }
        }
      ]
    },
    {
      "cell_type": "code",
      "metadata": {
        "id": "NwWCA6op5W2Z",
        "outputId": "568834b4-314e-4fe3-9c8f-1988e3d225dd",
        "colab": {
          "base_uri": "https://localhost:8080/",
          "height": 34
        }
      },
      "source": [
        "totalReward = 0\n",
        "state = env.reset()\n",
        "\n",
        "for frame_idx in range(1, 10000):\n",
        "    #epsilon = epsilon_by_frame(frame_idx)\n",
        "    action = model.act(state, 0)\n",
        "    \n",
        "    next_state, reward, done, _ = env.step(action)\n",
        "    \n",
        "    state = next_state\n",
        "    totalReward += reward\n",
        "    if done:      \n",
        "        break\n",
        "\n",
        "print(totalReward)"
      ],
      "execution_count": 31,
      "outputs": [
        {
          "output_type": "stream",
          "text": [
            "-9.0\n"
          ],
          "name": "stdout"
        }
      ]
    },
    {
      "cell_type": "code",
      "metadata": {
        "id": "WKYGukrF6Ngn"
      },
      "source": [
        ""
      ],
      "execution_count": 17,
      "outputs": []
    }
  ]
}